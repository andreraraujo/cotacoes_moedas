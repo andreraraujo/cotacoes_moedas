{
  "cells": [
    {
      "cell_type": "code",
      "execution_count": null,
      "metadata": {
        "colab": {
          "base_uri": "https://localhost:8080/"
        },
        "id": "E0ez7PtXsqFR",
        "outputId": "8d04efc6-688b-4e85-a2df-87e5b79f9838"
      },
      "outputs": [
        {
          "output_type": "stream",
          "name": "stdout",
          "text": [
            "Bem vindo(a) ao Cotações Mundiais!\n",
            "Selecione a moeda para ver a cotação: \n",
            "        [1] USD/BRL\n",
            "        [2] ARS/BRL\n",
            "        [3] AUD/BRL\n",
            "        [4] CAD/BRL\n",
            "        [5] EUR/BRL\n",
            "        \n"
          ]
        }
      ],
      "source": [
        "import pandas\n",
        "from pandas_datareader import data as pdr\n",
        "import yfinance as yfin\n",
        "import matplotlib.pyplot as plt\n",
        "yfin.pdr_override()\n",
        "\n",
        "print('Bem vindo(a) ao Cotações Mundiais!')\n",
        "while True:\n",
        "  print(\"\"\"Selecione a moeda para ver a cotação: \n",
        "        [1] USD/BRL\n",
        "        [2] ARS/BRL\n",
        "        [3] AUD/BRL\n",
        "        [4] CAD/BRL\n",
        "        [5] EUR/BRL\n",
        "        \"\"\")\n",
        "  v = int(input())\n",
        "  if v == 1:\n",
        "      print('USD/BRL')\n",
        "      df = pdr.get_data_yahoo(\"USDBRL=X\", start=\"2023-01-01\")\n",
        "      display(df)\n",
        "      print('Gráfico da cotação USD/BRL em 2023')\n",
        "      df[\"Adj Close\"].plot(figsize=(6, 3))\n",
        "      plt.show()\n",
        "  if v == 2:\n",
        "      print('ARS/BRL')\n",
        "      df = pdr.get_data_yahoo(\"ARSBRL=X\", start=\"2023-01-01\")\n",
        "      display(df)\n",
        "      print('Gráfico da cotação ARS/BRL em 2023')\n",
        "      df[\"Adj Close\"].plot(figsize=(6, 3))\n",
        "      plt.show()\n",
        "  if v == 3:\n",
        "      print('AUD/BRL')\n",
        "      df = pdr.get_data_yahoo(\"AUDBRL=X\", start=\"2023-01-01\")\n",
        "      print('Gráfico da cotação AUD/BRL em 2023')\n",
        "      display(df)\n",
        "      df[\"Adj Close\"].plot(figsize=(6, 3))\n",
        "      plt.show()\n",
        "  if v == 4:\n",
        "      print('CAD/BRL')\n",
        "      df = pdr.get_data_yahoo(\"CADBRL=X\", start=\"2023-01-01\")\n",
        "      print('Gráfico da cotação CAD/BRL em 2023')\n",
        "      display(df)\n",
        "      df[\"Adj Close\"].plot(figsize=(6, 3))\n",
        "      plt.show()\n",
        "  if v == 5:\n",
        "      print('EUR/BRL')\n",
        "      df = pdr.get_data_yahoo(\"EURBRL=X\", start=\"2023-01-01\")\n",
        "      display(df)\n",
        "      print('Gráfico da cotação EUR/BRL em 2023')\n",
        "      df[\"Adj Close\"].plot(figsize=(6, 3))\n",
        "      plt.show()\n",
        "else:\n",
        "  \"Programa encerrado.\""
      ]
    }
  ],
  "metadata": {
    "colab": {
      "provenance": []
    },
    "kernelspec": {
      "display_name": "Python 3",
      "name": "python3"
    },
    "language_info": {
      "name": "python"
    }
  },
  "nbformat": 4,
  "nbformat_minor": 0
}